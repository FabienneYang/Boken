{
 "cells": [
  {
   "cell_type": "code",
   "execution_count": 2,
   "metadata": {},
   "outputs": [],
   "source": [
    "import numpy as np \n",
    "\n",
    "from bokeh.io import output_notebook, show\n",
    "from bokeh.plotting import figure"
   ]
  },
  {
   "cell_type": "code",
   "execution_count": 3,
   "metadata": {},
   "outputs": [
    {
     "name": "stdout",
     "output_type": "stream",
     "text": [
      "Using data directory: C:\\Users\\Fabienne2.Yang\\.bokeh\\data\n",
      "Downloading: CGM.csv (1589982 bytes)\n",
      "   1589982 [100.00%]\n",
      "Downloading: US_Counties.zip (3182088 bytes)\n",
      "   3182088 [100.00%]\n",
      "Unpacking: US_Counties.csv\n",
      "Downloading: us_cities.json (713565 bytes)\n",
      "    713565 [100.00%]\n",
      "Downloading: unemployment09.csv (253301 bytes)\n",
      "    253301 [100.00%]\n",
      "Downloading: AAPL.csv (166698 bytes)\n",
      "    166698 [100.00%]\n",
      "Downloading: FB.csv (9706 bytes)\n",
      "      9706 [100.00%]\n",
      "Downloading: GOOG.csv (113894 bytes)\n",
      "    113894 [100.00%]\n",
      "Downloading: IBM.csv (165625 bytes)\n",
      "    165625 [100.00%]\n",
      "Downloading: MSFT.csv (161614 bytes)\n",
      "    161614 [100.00%]\n",
      "Downloading: WPP2012_SA_DB03_POPULATION_QUINQUENNIAL.zip (5148539 bytes)\n",
      "   5148539 [100.00%]\n",
      "Unpacking: WPP2012_SA_DB03_POPULATION_QUINQUENNIAL.csv\n",
      "Downloading: gapminder_fertility.csv (64346 bytes)\n",
      "     64346 [100.00%]\n",
      "Downloading: gapminder_population.csv (94509 bytes)\n",
      "     94509 [100.00%]\n",
      "Downloading: gapminder_life_expectancy.csv (73243 bytes)\n",
      "     73243 [100.00%]\n",
      "Downloading: gapminder_regions.csv (7781 bytes)\n",
      "      7781 [100.00%]\n",
      "Downloading: world_cities.zip (646858 bytes)\n",
      "    646858 [100.00%]\n",
      "Unpacking: world_cities.csv\n",
      "Downloading: airports.json (6373 bytes)\n",
      "      6373 [100.00%]\n",
      "Downloading: movies.db.zip (5067833 bytes)\n",
      "   5067833 [100.00%]\n",
      "Unpacking: movies.db\n",
      "Downloading: airports.csv (203190 bytes)\n",
      "    203190 [100.00%]\n",
      "Downloading: routes.csv (377280 bytes)\n",
      "    377280 [100.00%]\n"
     ]
    }
   ],
   "source": [
    "import bokeh.sampledata\n",
    "bokeh.sampledata.download()"
   ]
  },
  {
   "cell_type": "code",
   "execution_count": 10,
   "metadata": {},
   "outputs": [],
   "source": [
    "# create a new plot (with a title) using figure\n",
    "p = figure(plot_width=200, plot_height=200, title=\"My Line Plot\")\n",
    "\n",
    "# add a line renderer\n",
    "p.line([1, 2, 3, 4, 5], [7, 3, 5, 4, 1], line_width=3, color=\"firebrick\")\n",
    "\n",
    "show(p) # show the results"
   ]
  },
  {
   "cell_type": "code",
   "execution_count": 12,
   "metadata": {},
   "outputs": [
    {
     "data": {
      "text/html": [
       "<div>\n",
       "<style scoped>\n",
       "    .dataframe tbody tr th:only-of-type {\n",
       "        vertical-align: middle;\n",
       "    }\n",
       "\n",
       "    .dataframe tbody tr th {\n",
       "        vertical-align: top;\n",
       "    }\n",
       "\n",
       "    .dataframe thead th {\n",
       "        text-align: right;\n",
       "    }\n",
       "</style>\n",
       "<table border=\"1\" class=\"dataframe\">\n",
       "  <thead>\n",
       "    <tr style=\"text-align: right;\">\n",
       "      <th></th>\n",
       "      <th>isig</th>\n",
       "      <th>glucose</th>\n",
       "    </tr>\n",
       "    <tr>\n",
       "      <th>datetime</th>\n",
       "      <th></th>\n",
       "      <th></th>\n",
       "    </tr>\n",
       "  </thead>\n",
       "  <tbody>\n",
       "    <tr>\n",
       "      <th>2010-03-24 09:51:00</th>\n",
       "      <td>22.59</td>\n",
       "      <td>258</td>\n",
       "    </tr>\n",
       "    <tr>\n",
       "      <th>2010-03-24 09:56:00</th>\n",
       "      <td>22.52</td>\n",
       "      <td>260</td>\n",
       "    </tr>\n",
       "    <tr>\n",
       "      <th>2010-03-24 10:01:00</th>\n",
       "      <td>22.23</td>\n",
       "      <td>258</td>\n",
       "    </tr>\n",
       "    <tr>\n",
       "      <th>2010-03-24 10:06:00</th>\n",
       "      <td>21.56</td>\n",
       "      <td>254</td>\n",
       "    </tr>\n",
       "    <tr>\n",
       "      <th>2010-03-24 10:11:00</th>\n",
       "      <td>20.79</td>\n",
       "      <td>246</td>\n",
       "    </tr>\n",
       "  </tbody>\n",
       "</table>\n",
       "</div>"
      ],
      "text/plain": [
       "                      isig  glucose\n",
       "datetime                           \n",
       "2010-03-24 09:51:00  22.59      258\n",
       "2010-03-24 09:56:00  22.52      260\n",
       "2010-03-24 10:01:00  22.23      258\n",
       "2010-03-24 10:06:00  21.56      254\n",
       "2010-03-24 10:11:00  20.79      246"
      ]
     },
     "execution_count": 12,
     "metadata": {},
     "output_type": "execute_result"
    }
   ],
   "source": [
    "from bokeh.sampledata.glucose import data\n",
    "data.head()"
   ]
  },
  {
   "cell_type": "code",
   "execution_count": 21,
   "metadata": {},
   "outputs": [],
   "source": [
    "# reduce data size to one week\n",
    "week = data.loc['2010-03-24':'2010-03-30']\n",
    "\n",
    "p = figure(x_axis_type=\"datetime\", title=\"Glocose Range\", plot_height=350, plot_width=800)\n",
    "p.xgrid.grid_line_color='lightslategray'\n",
    "p.ygrid.grid_line_alpha=0.5\n",
    "p.xaxis.axis_label = 'Time'\n",
    "p.yaxis.axis_label = 'Value'\n",
    "\n",
    "p.line(week.index, week.glucose)\n",
    "\n",
    "show(p)"
   ]
  },
  {
   "cell_type": "code",
   "execution_count": 35,
   "metadata": {},
   "outputs": [],
   "source": [
    "# EXERCISE: Look at the AAPL data from bokeh.sampledata.stocks and create a line plot using it\n",
    "from bokeh.sampledata.stocks import AAPL\n",
    "\n",
    "#AAPL.keys()\n",
    "#dict_keys(['date', 'open', 'high', 'low', 'close', 'volume', 'adj_close'])\n",
    "\n",
    "dates = np.array(AAPL['date'], dtype=np.datetime64) # convert date strings to real datetimes\n",
    "\n",
    "p = figure(x_axis_type=\"datetime\", title=\"stocks\", plot_height=350, plot_width=800)\n",
    "p.xgrid.grid_line_color='lightslategray'\n",
    "p.ygrid.grid_line_alpha=0.5\n",
    "p.xaxis.axis_label = 'date'\n",
    "p.yaxis.axis_label = 'high'\n",
    "\n",
    "p.line(dates, AAPL['high'])\n",
    "\n",
    "show(p)"
   ]
  },
  {
   "cell_type": "code",
   "execution_count": 41,
   "metadata": {},
   "outputs": [],
   "source": [
    "from bokeh.palettes import Viridis256\n",
    "from bokeh.util.hex import hexbin\n",
    "\n",
    "n = 50000\n",
    "x = np.random.standard_normal(n)\n",
    "y = np.random.standard_normal(n)\n",
    "\n",
    "bins = hexbin(x, y, 0.1)\n",
    "\n",
    "# color map the bins by hand, will see how to use linear_cmap later\n",
    "color = [Viridis256[int(i)] for i in bins.counts/max(bins.counts)*255]\n",
    "\n",
    "# match_aspect ensures neither dimension is squished, regardless of the plot size\n",
    "p = figure(tools=\"wheel_zoom,reset\", match_aspect=True, background_fill_color='#440154')\n",
    "p.grid.visible = False\n",
    "\n",
    "p.hex_tile(bins.q, bins.r, size=0.1, line_color=None, fill_color=color)\n",
    "\n",
    "show(p)"
   ]
  },
  {
   "cell_type": "code",
   "execution_count": 44,
   "metadata": {},
   "outputs": [],
   "source": [
    "N = 500\n",
    "x = np.linspace(0, 10, N)\n",
    "y = np.linspace(0, 10, N)\n",
    "xx, yy = np.meshgrid(x, y)\n",
    "\n",
    "img = np.sin(xx)*np.cos(yy)\n",
    "\n",
    "p = figure(x_range=(0, 10), y_range=(0, 10))\n",
    "\n",
    "# must give a vector of image data for image parameter\n",
    "p.image(image=[img], x=0, y=0, dw=10, dh=10, palette=\"Spectral11\")\n",
    "\n",
    "show(p)"
   ]
  },
  {
   "cell_type": "code",
   "execution_count": 46,
   "metadata": {},
   "outputs": [],
   "source": [
    "from __future__ import division\n",
    "import numpy as np\n",
    " \n",
    "N = 20\n",
    "img = np.empty((N,N), dtype=np.uint32) \n",
    "\n",
    "# use an array view to set each RGBA channel individiually\n",
    "view = img.view(dtype=np.uint8).reshape((N, N, 4))\n",
    "for i in range(N):\n",
    "    for j in range(N):\n",
    "        view[i, j, 0] = int(i/N*255) # red\n",
    "        view[i, j, 1] = 158          # green\n",
    "        view[i, j, 2] = int(j/N*255) # blue\n",
    "        view[i, j, 3] = 255          # alpha\n",
    "        \n",
    "# create a new plot (with a fixed range) using figure\n",
    "p = figure(x_range=[0,10], y_range=[0,10])\n",
    "\n",
    "# add an RGBA image renderer\n",
    "p.image_rgba(image=[img], x=[0], y=[0], dw=[10], dh=[10])\n",
    "\n",
    "show(p)"
   ]
  },
  {
   "cell_type": "code",
   "execution_count": 48,
   "metadata": {},
   "outputs": [],
   "source": [
    "# set up some data\n",
    "x = [1, 2, 3, 4, 5]\n",
    "y = [4, 8, 8, 3, 6]\n",
    "\n",
    "# create a new plot with figure\n",
    "p = figure(plot_width=400, plot_height=400)\n",
    "\n",
    "# add both a line and circles on the same plot\n",
    "p.line(x, y, line_width=2)\n",
    "p.circle(x, y, fill_color=\"lightslategray\", size=8)\n",
    "\n",
    "show(p) # show the results"
   ]
  }
 ],
 "metadata": {
  "kernelspec": {
   "display_name": "Python 3",
   "language": "python",
   "name": "python3"
  },
  "language_info": {
   "codemirror_mode": {
    "name": "ipython",
    "version": 3
   },
   "file_extension": ".py",
   "mimetype": "text/x-python",
   "name": "python",
   "nbconvert_exporter": "python",
   "pygments_lexer": "ipython3",
   "version": "3.7.0"
  }
 },
 "nbformat": 4,
 "nbformat_minor": 2
}
